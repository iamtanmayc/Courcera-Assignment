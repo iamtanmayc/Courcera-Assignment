{
 "cells": [
  {
   "cell_type": "markdown",
   "id": "c01fab1d",
   "metadata": {},
   "source": [
    "# Data Science Tools and Ecosystem"
   ]
  },
  {
   "cell_type": "markdown",
   "id": "1c7deb89",
   "metadata": {},
   "source": [
    "In this notebook, Data Science Tools and Ecosystem ar summarized."
   ]
  },
  {
   "cell_type": "markdown",
   "id": "452336a9",
   "metadata": {},
   "source": [
    "**Objectives:**\n",
    "* Popular Languages used by Data Scientists\n",
    "* Commonly Libraries used by Data Scientists\n",
    "* Data Science Tools\n",
    "* Example of python arithmetics\n",
    "* Example of minute to Hour Converter"
   ]
  },
  {
   "cell_type": "markdown",
   "id": "0131c363",
   "metadata": {},
   "source": [
    "Some of the popular Languages that Data Scientists use are:\n",
    "1. Python\n",
    "2. R\n",
    "3. Scala\n",
    "4. SQL\n",
    "5. Weka\n",
    "6. Julia\n",
    "7. C++"
   ]
  },
  {
   "cell_type": "markdown",
   "id": "acbd9dbd",
   "metadata": {},
   "source": [
    "Some of the commonly used libraries used by Data Scientists include:\n",
    "1. Pandas\n",
    "2. NumPy\n",
    "3. Scikitlearn\n",
    "4. Matplotlib\n",
    "5. TensorFlow\n",
    "6. Plotly\n",
    "7. GGplot2"
   ]
  },
  {
   "cell_type": "markdown",
   "id": "56405d02",
   "metadata": {},
   "source": [
    "|Data Science Tools|\n",
    "----------------------------\n",
    "|Jupyter Notebook|\n",
    "|R studio|\n",
    "|Pycharm|"
   ]
  },
  {
   "cell_type": "markdown",
   "id": "07702154",
   "metadata": {},
   "source": [
    "### Below are a few examples of evaluating arithmetic expressions in Python\n"
   ]
  },
  {
   "cell_type": "code",
   "execution_count": 1,
   "id": "316e95c0",
   "metadata": {},
   "outputs": [
    {
     "data": {
      "text/plain": [
       "17"
      ]
     },
     "execution_count": 1,
     "metadata": {},
     "output_type": "execute_result"
    }
   ],
   "source": [
    "# This is a simple arithmetic xpression to multiply then add integers\n",
    "(3*4)+5"
   ]
  },
  {
   "cell_type": "code",
   "execution_count": 4,
   "id": "f383d881",
   "metadata": {},
   "outputs": [
    {
     "data": {
      "text/plain": [
       "3.3333333333333335"
      ]
     },
     "execution_count": 4,
     "metadata": {},
     "output_type": "execute_result"
    }
   ],
   "source": [
    "# This will convert 200 minutes to hours by diving by 60.\n",
    "def mintohr(value):\n",
    "    return value / 60\n",
    "mintohr(200)"
   ]
  },
  {
   "cell_type": "markdown",
   "id": "88336b55",
   "metadata": {},
   "source": [
    "## Author\n",
    "Tanmay Chauhan\n"
   ]
  }
 ],
 "metadata": {
  "kernelspec": {
   "display_name": "Python 3 (ipykernel)",
   "language": "python",
   "name": "python3"
  },
  "language_info": {
   "codemirror_mode": {
    "name": "ipython",
    "version": 3
   },
   "file_extension": ".py",
   "mimetype": "text/x-python",
   "name": "python",
   "nbconvert_exporter": "python",
   "pygments_lexer": "ipython3",
   "version": "3.10.9"
  }
 },
 "nbformat": 4,
 "nbformat_minor": 5
}
